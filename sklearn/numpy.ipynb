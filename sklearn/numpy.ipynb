{
 "cells": [
  {
   "cell_type": "markdown",
   "metadata": {},
   "source": [
    "# numpy基本操作\n",
    "\n",
    "NumPy系统是Python的一种开源的数值计算扩展。这种工具可用来存储和处理大型矩阵。\n",
    "更多操作参考http://www.runoob.com/numpy/numpy-tutorial.html\n",
    "\n",
    "numpy reshape\n",
    "      \n",
    "      reshape()\n",
    "      revel()\n",
    "      \n",
    "numpy 加法 乘法 （数字）\n",
    "\n",
    "      加法 乘法 （数组）      \n",
    "      点乘      （数组np.dot(a,b)）      \n",
    "      广播      （匹配维度，否则报错）\n",
    "      < = >       （bool判断）\n",
    "      \n",
    "numpy 内置函数\n",
    "\n",
    "      cos()三角函数    \n",
    "      exp()指数\n",
    "      sqrt()平方根\n",
    "      \n",
    "numpy 统计功能\n",
    "\n",
    "      sum()\n",
    "      mean()\n",
    "      min() max()\n",
    "      argmin()\n",
    "      argmax()  返回索引\n",
    "      std()    标准差\n",
    "      \n",
    "numpy 多维度 行列\n",
    "\n",
    "      axis = 0\n",
    "      axis = 1\n",
    "      \n",
    "numpy 数组排序功能\n",
    "\n",
    "      np.sort()\n",
    "      np.argsout()\n",
    "      \n",
    "numpy 求解多项式   多项式拟合\n",
    "    \n",
    "numpy 文件操作"
   ]
  },
  {
   "cell_type": "markdown",
   "metadata": {},
   "source": [
    "### numpy reshape"
   ]
  },
  {
   "cell_type": "code",
   "execution_count": null,
   "metadata": {
    "collapsed": true
   },
   "outputs": [],
   "source": [
    "import numpy as np\n"
   ]
  },
  {
   "cell_type": "code",
   "execution_count": null,
   "metadata": {
    "collapsed": true
   },
   "outputs": [],
   "source": [
    "a = np.arange(12)\n",
    "print(a)\n",
    "\n",
    "b = a.reshape(3,4)\n",
    "print(b)\n",
    "\n",
    "c = b.ravel()\n",
    "print(c)"
   ]
  },
  {
   "cell_type": "markdown",
   "metadata": {},
   "source": [
    "### numpy 加法 乘法 （数字）"
   ]
  },
  {
   "cell_type": "code",
   "execution_count": null,
   "metadata": {},
   "outputs": [],
   "source": [
    "a = np.arange(6)\n",
    "print(a+5)"
   ]
  },
  {
   "cell_type": "code",
   "execution_count": null,
   "metadata": {},
   "outputs": [],
   "source": [
    "b = a.reshape(2,3)\n",
    "print(b)\n",
    "c = np.ones((3,2))\n",
    "\n",
    "d = np.dot(b,c)\n",
    "print(d)"
   ]
  },
  {
   "cell_type": "code",
   "execution_count": null,
   "metadata": {},
   "outputs": [],
   "source": [
    "e = np.arange(3)\n",
    "f = np.arange(2)\n",
    "\n",
    "print(b + e)\n",
    "print(b + f.reshape(2,1))"
   ]
  },
  {
   "cell_type": "code",
   "execution_count": null,
   "metadata": {},
   "outputs": [],
   "source": [
    "g = [[2,3]]\n",
    "print(f > g)"
   ]
  },
  {
   "cell_type": "markdown",
   "metadata": {},
   "source": [
    "### numpy 内置函数"
   ]
  },
  {
   "cell_type": "code",
   "execution_count": null,
   "metadata": {},
   "outputs": [],
   "source": [
    "a = np.arange(6)\n",
    "\n",
    "print(np.cos(a))\n",
    "print(np.exp(a))\n",
    "print(np.sqrt(a))"
   ]
  },
  {
   "cell_type": "markdown",
   "metadata": {},
   "source": [
    "### numpy 统计功能"
   ]
  },
  {
   "cell_type": "code",
   "execution_count": null,
   "metadata": {},
   "outputs": [],
   "source": [
    "a = np.random.randint(1,8,20)\n",
    "print(a)\n",
    "\n",
    "print(a.sum())\n",
    "print(a.mean())\n",
    "print(a.min())\n",
    "print(a.argmax())"
   ]
  },
  {
   "cell_type": "markdown",
   "metadata": {},
   "source": [
    "### numpy 多维度 行列"
   ]
  },
  {
   "cell_type": "code",
   "execution_count": null,
   "metadata": {},
   "outputs": [],
   "source": [
    "b = np.random.randint(1,8,(5,6))\n",
    "print(b)\n",
    "\n",
    "print(b.sum(axis=1))\n",
    "print(b.std(axis=1))"
   ]
  },
  {
   "cell_type": "markdown",
   "metadata": {},
   "source": [
    "### numpy 数组排序功能"
   ]
  },
  {
   "cell_type": "code",
   "execution_count": null,
   "metadata": {},
   "outputs": [],
   "source": [
    "c = np.sort(b,axis=1)\n",
    "d = np.argsort(b,axis=0)\n",
    "\n",
    "print(c)\n",
    "print(d)"
   ]
  },
  {
   "cell_type": "markdown",
   "metadata": {},
   "source": [
    "### numpy 求解多项式   多项式拟合"
   ]
  },
  {
   "cell_type": "code",
   "execution_count": null,
   "metadata": {},
   "outputs": [],
   "source": [
    "p = np.poly1d([1,-4,3])   #二项式的系数\n",
    "\n",
    "print(p(1))\n",
    "\n",
    "print(p.roots)      #多项式的根\n",
    "print(p.order)      #多项式阶数\n",
    "print(p.coeffs)     #多项式系数"
   ]
  },
  {
   "cell_type": "markdown",
   "metadata": {},
   "source": [
    "%matplotlib inline\n",
    "import matplotlib.pyplot as plt\n",
    "\n",
    "n_dots = 20\n",
    "n_order =3\n",
    "\n",
    "x = np.linspace(0,1,20)  #0,1之间的20个点\n",
    "y = np.sqrt(x) + 0.2*np.random.rand(n_dots)\n",
    "\n",
    "p = np.poly1d(np.polyfit(x,y,n_order))\n",
    "print(p.coeffs)\n",
    "\n",
    "t = np.linspace(0,1,200)\n",
    "plt.plot(x,y,'ro',t,p(t),'-')"
   ]
  },
  {
   "cell_type": "markdown",
   "metadata": {},
   "source": [
    "### 计算pi"
   ]
  },
  {
   "cell_type": "code",
   "execution_count": null,
   "metadata": {},
   "outputs": [],
   "source": [
    "n_dots = 1000000\n",
    "x = np.random.random(n_dots)\n",
    "y = np.random.random(n_dots)\n",
    "\n",
    "distance = np.sqrt(x**2 + y**2)\n",
    "\n",
    "in_circle = distance[distance<1]\n",
    "print(in_circle.shape)\n",
    "\n",
    "pi = 4*float(len(in_circle)) / n_dots\n",
    "print(pi)\n"
   ]
  },
  {
   "cell_type": "markdown",
   "metadata": {},
   "source": [
    "### numpy 文件操作"
   ]
  },
  {
   "cell_type": "code",
   "execution_count": null,
   "metadata": {
    "collapsed": true
   },
   "outputs": [],
   "source": []
  }
 ],
 "metadata": {
  "kernelspec": {
   "display_name": "Python 3",
   "language": "python",
   "name": "python3"
  },
  "language_info": {
   "codemirror_mode": {
    "name": "ipython",
    "version": 3
   },
   "file_extension": ".py",
   "mimetype": "text/x-python",
   "name": "python",
   "nbconvert_exporter": "python",
   "pygments_lexer": "ipython3",
   "version": "3.6.3"
  }
 },
 "nbformat": 4,
 "nbformat_minor": 2
}
